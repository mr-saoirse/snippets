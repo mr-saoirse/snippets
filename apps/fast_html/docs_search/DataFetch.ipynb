{
 "cells": [
  {
   "cell_type": "code",
   "execution_count": null,
   "id": "2ebb1380",
   "metadata": {},
   "outputs": [],
   "source": [
    "#!pip install trafilatura, bs4\n",
    "\"\"\"\n",
    "On my mac at least i needed to\n",
    "#pip install -U charset_normalizer\n",
    "#pip uninstall charset_normalizer -y\n",
    "#!pip install lxml_html_clean\n",
    "\"\"\"\n",
    "import requests\n",
    "import trafilatura\n",
    "from bs4 import BeautifulSoup\n",
    "\n",
    "def fetch_text(uri):\n",
    "    return trafilatura.extract(trafilatura.fetch_url(uri))\n",
    "\n",
    "\"\"\"the simplest possible text scrape\"\"\"\n",
    "site = 'https://docs.fastht.ml/'\n",
    "downloaded = trafilatura.fetch_url(site)\n",
    "home_content = trafilatura.extract(downloaded)\n",
    "soup = BeautifulSoup(downloaded, 'html.parser')\n",
    "links = soup.find_all('a')\n",
    "all_links = set([link.get('href') for link in links if link.get('href','-')[0]=='.'])\n",
    "all_links = [f\"{site}{l[2:]}\" for l in all_links]\n",
    "all_pages = {uri: fetch_text(uri) for uri in all_links }\n",
    "for k,v in all_pages.items():\n",
    "    print(k, len(v))\n",
    "home_content"
   ]
  },
  {
   "cell_type": "code",
   "execution_count": null,
   "id": "c549144d",
   "metadata": {},
   "outputs": [],
   "source": [
    "\"\"\"do some lame chunking\"\"\"\n",
    "def chunk(s, l=10000):\n",
    "    for i in range(0, len(s), l):\n",
    "        yield i, s[i:i + l] \n",
    "        \n",
    "chunks = []\n",
    "for uri, content in all_pages.items():\n",
    "    for i, c in chunk(content):\n",
    "        chunks.append({'id':f\"{uri}_{i}\", 'uri':uri, 'text':c})\n",
    "        \n",
    "chunks"
   ]
  },
  {
   "cell_type": "markdown",
   "id": "dc05356d",
   "metadata": {},
   "source": [
    "## Create a lancedb dump of the data"
   ]
  },
  {
   "cell_type": "code",
   "execution_count": null,
   "id": "c3139e35",
   "metadata": {},
   "outputs": [],
   "source": [
    "import pydantic,lancedb\n",
    "from lancedb.pydantic import LanceModel, Vector\n",
    "from pydantic import BaseModel\n",
    "import numpy as np\n",
    "from lancedb.embeddings import get_registry\n",
    "\n",
    "\"\"\"connect to the db (file)\"\"\"\n",
    "db = lancedb.connect('../docs_search/app/data/')\n",
    "\n",
    "\n",
    "\"\"\"https://lancedb.github.io/lancedb/embeddings/#openai-embedding-function\"\"\"\n",
    "func = get_registry().get(\"openai\").create(name=\"text-embedding-ada-002\")\n",
    "\n",
    "class HelpContent(LanceModel):\n",
    "    \"\"\"a simple lance data model to wrap the embedding in IO\"\"\"\n",
    "    id: str\n",
    "    uri: str\n",
    "    text: str = func.SourceField()\n",
    "    vector: Vector(func.ndims()) = func.VectorField()\n",
    "        \n",
    "\"\"\"Create a data model for content\"\"\"\n",
    "\n",
    "table = db.create_table(\"fast_html_help\",  schema=HelpContent, mode=\"overwrite\")\n",
    "\n",
    "table.add( chunks)\n",
    "\n",
    "tbl = db.open_table('fast_html_help')\n",
    "tbl.to_pandas()"
   ]
  },
  {
   "cell_type": "markdown",
   "id": "88e452ce",
   "metadata": {},
   "source": [
    "## Check the search basically works"
   ]
  },
  {
   "cell_type": "code",
   "execution_count": null,
   "id": "c12d8b6d",
   "metadata": {},
   "outputs": [],
   "source": [
    "\"\"\"check table directly\"\"\"\n",
    "tbl.search('Is there a JS Walkthrough').select(['text']).to_list()"
   ]
  },
  {
   "cell_type": "code",
   "execution_count": null,
   "id": "ce720f9e",
   "metadata": {},
   "outputs": [],
   "source": [
    "\"\"\"check config for the vector store wrapper in the server utils\"\"\"\n",
    "from app.src.chat_utils import VectorStore\n",
    "store = VectorStore()\n",
    "store('Is there a JS Walkthrough')"
   ]
  },
  {
   "cell_type": "code",
   "execution_count": null,
   "id": "45f90dca",
   "metadata": {},
   "outputs": [],
   "source": [
    "\"\"\"check the agent\n",
    "1. calls the store\n",
    "2. calls GPT (requires OPEN_AI key)\n",
    "\"\"\"\n",
    "from app.src.chat_utils import agent\n",
    "from IPython.display import Markdown\n",
    "Markdown(agent('what is Fast HTML',is_streaming=False))"
   ]
  },
  {
   "cell_type": "code",
   "execution_count": null,
   "id": "59b08eb0",
   "metadata": {},
   "outputs": [],
   "source": [
    "Markdown(agent('Please give me an example snippet FastHTML python program',is_streaming=False))"
   ]
  },
  {
   "cell_type": "code",
   "execution_count": 1,
   "id": "768d59cb",
   "metadata": {},
   "outputs": [],
   "source": [
    "# Server Rest"
   ]
  },
  {
   "cell_type": "code",
   "execution_count": 2,
   "id": "9452bd02",
   "metadata": {},
   "outputs": [
    {
     "name": "stdout",
     "output_type": "stream",
     "text": [
      "Seamus Heaney, a renowned Irish poet, has written many celebrated poems. One of his most famous works is \"Digging,\" which is part of his collection \"Death of a Naturalist.\" Here are some example verses from \"Digging\":\n",
      "\n",
      "---\n",
      "\n",
      "**\"Digging\" by Seamus Heaney**\n",
      "\n",
      "*Between my finger and my thumb  \n",
      "The squat pen rests; snug as a gun.  \n",
      "Under my thumb, the squat pen rests;  \n",
      "I’ll dig with it.\"*\n",
      "\n",
      "---\n",
      "\n",
      "In this poem, Heaney reflects on his identity as a writer and the connection to his heritage of manual labor, particularly the work of his father and grandfather as farmers. The imagery of digging serves as a metaphor for both physical labor and the act of writing itself.\n",
      "\n",
      "If you're interested in more examples or specific themes in Heaney's poetry, feel free to ask!event: completed\n",
      "data: \n",
      "\n"
     ]
    }
   ],
   "source": [
    "import requests\n",
    "\n",
    "with requests.get(\n",
    "    'http://127.0.0.1:5009/ask?raw=true&encode=false',\n",
    "    params={'question' : \"please give an example of Seamus Heaney's poems with some example versus\"}\n",
    ") as r:\n",
    "    for chunk in r.iter_content(1024):  # or, for line in r.iter_lines():\n",
    "        print(chunk.decode(), end=\"\")"
   ]
  },
  {
   "cell_type": "code",
   "execution_count": null,
   "id": "27bcd018",
   "metadata": {},
   "outputs": [],
   "source": []
  }
 ],
 "metadata": {
  "kernelspec": {
   "display_name": "Python 3 (ipykernel)",
   "language": "python",
   "name": "python3"
  },
  "language_info": {
   "codemirror_mode": {
    "name": "ipython",
    "version": 3
   },
   "file_extension": ".py",
   "mimetype": "text/x-python",
   "name": "python",
   "nbconvert_exporter": "python",
   "pygments_lexer": "ipython3",
   "version": "3.10.10"
  }
 },
 "nbformat": 4,
 "nbformat_minor": 5
}

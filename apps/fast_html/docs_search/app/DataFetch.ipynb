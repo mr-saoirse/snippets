{
 "cells": [
  {
   "cell_type": "code",
   "execution_count": 7,
   "id": "d21e64f7",
   "metadata": {},
   "outputs": [
    {
     "data": {
      "text/html": [
       "<main>\n",
       "  <div class=\"hero\">\n",
       "    <h1>Hello World</h1>\n",
       "    <p>This is a hero statement</p>\n",
       "  </div>\n",
       "</main>\n"
      ],
      "text/plain": [
       "<IPython.core.display.HTML object>"
      ]
     },
     "execution_count": 7,
     "metadata": {},
     "output_type": "execute_result"
    }
   ],
   "source": [
    "from IPython.display import HTML\n",
    "from fasthtml.common import *\n",
    "from dataclasses import dataclass\n",
    "\n",
    "@dataclass\n",
    "class Hero:\n",
    "    title: str\n",
    "    statement: str\n",
    "    #children\n",
    "    \n",
    "    def __ft__(self):\n",
    "        \"\"\" The __ft__ method renders the dataclass at runtime.\"\"\"\n",
    "        return Div(H1(self.title),P(self.statement), cls=\"hero\")\n",
    "    \n",
    "# usage example\n",
    "a = Main(\n",
    "    Hero(\"Hello World\", \"This is a hero statement\")\n",
    ")\n",
    "show(a)\n",
    "#Div(NotStr(df.to_html()))."
   ]
  },
  {
   "cell_type": "code",
   "execution_count": 8,
   "id": "3f86daab",
   "metadata": {},
   "outputs": [],
   "source": [
    "show?"
   ]
  },
  {
   "cell_type": "code",
   "execution_count": null,
   "id": "2ebb1380",
   "metadata": {},
   "outputs": [],
   "source": []
  }
 ],
 "metadata": {
  "kernelspec": {
   "display_name": "Python 3 (ipykernel)",
   "language": "python",
   "name": "python3"
  },
  "language_info": {
   "codemirror_mode": {
    "name": "ipython",
    "version": 3
   },
   "file_extension": ".py",
   "mimetype": "text/x-python",
   "name": "python",
   "nbconvert_exporter": "python",
   "pygments_lexer": "ipython3",
   "version": "3.10.10"
  }
 },
 "nbformat": 4,
 "nbformat_minor": 5
}
